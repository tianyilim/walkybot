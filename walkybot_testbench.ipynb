{
 "metadata": {
  "language_info": {
   "codemirror_mode": {
    "name": "ipython",
    "version": 3
   },
   "file_extension": ".py",
   "mimetype": "text/x-python",
   "name": "python",
   "nbconvert_exporter": "python",
   "pygments_lexer": "ipython3",
   "version": "3.7.4-final"
  },
  "orig_nbformat": 2,
  "kernelspec": {
   "name": "python_defaultSpec_1599054574066",
   "display_name": "Python 3.7.4 32-bit"
  }
 },
 "nbformat": 4,
 "nbformat_minor": 2,
 "cells": [
  {
   "cell_type": "code",
   "execution_count": 23,
   "metadata": {},
   "outputs": [],
   "source": [
    "%matplotlib qt\n",
    "import numpy as np\n",
    "import matplotlib.pyplot as plt\n",
    "\n",
    "# Define leg parameters\n",
    "coxa_len = 28.75\n",
    "tibia_len = 68.825\n",
    "femur_len = 40\n",
    "z_offset = 68.825\n",
    "l_len = np.sqrt( z_offset**2 + coxa_len**2 ) # Z-offset can change!\n",
    "\n",
    "def to_rads(num):\n",
    "    return num*np.pi/180\n",
    "\n",
    "def to_degs(num):\n",
    "    return num/np.pi*180"
   ]
  },
  {
   "cell_type": "code",
   "execution_count": 33,
   "metadata": {
    "tags": []
   },
   "outputs": [
    {
     "output_type": "stream",
     "name": "stdout",
     "text": "[0, 0, 68.825] [0.0, 28.75, 68.825] [0.0, 67.48284372924779, 71.31917041614176] [0.0, 68.75, 2.5175003836609164] 1.0549481827264344\n"
    }
   ],
   "source": [
    "# Forward kinematics check\n",
    "leg_base = [0, 0, z_offset] # xyz\n",
    "coxa_end = [0, 0, z_offset]\n",
    "femur_end = [0, 0, 0]\n",
    "tibia_end = [0, 0, 0]\n",
    "\n",
    "# Input desired angles here\n",
    "angles = [90.0, 104.46025455928492, 76.59469362344151]\n",
    "coxa_angle = angles[0]\n",
    "femur_angle = angles[1]\n",
    "tibia_angle = angles[2]\n",
    "\n",
    "femur_vert = femur_len * np.cos( to_rads(femur_angle - 90) )\n",
    "femur_hor = femur_len * np.sin( to_rads(femur_angle - 90) )\n",
    "\n",
    "theta = tibia_angle + femur_angle - 180\n",
    "\n",
    "tibia_vert = tibia_len * np.sin( to_rads(theta) )\n",
    "tibia_hor = tibia_len * np.cos( to_rads(theta) )\n",
    "\n",
    "# calc coxa end-points\n",
    "coxa_end[0] = coxa_len * np.sin( to_rads(coxa_angle-90) )\n",
    "coxa_end[1] = coxa_len * np.cos( to_rads(coxa_angle-90) )\n",
    "\n",
    "# calc femur end-points\n",
    "femur_end[0] = coxa_end[0] + femur_vert * np.sin( to_rads(coxa_angle-90) )\n",
    "femur_end[1] = coxa_end[1] + femur_vert * np.cos( to_rads(coxa_angle-90) )\n",
    "femur_end[2] = coxa_end[2] + femur_hor * np.sin( to_rads(femur_angle-90) )\n",
    "\n",
    "# calc tibia end-points\n",
    "tibia_end[0] = femur_end[0] + tibia_vert * np.sin( to_rads(coxa_angle-90) )\n",
    "tibia_end[1] = femur_end[1] + tibia_vert * np.cos( to_rads(coxa_angle-90) )\n",
    "tibia_end[2] = femur_end[2] + tibia_hor * np.cos( to_rads( theta -180 ) )\n",
    "\n",
    "print(leg_base, coxa_end, femur_end, tibia_end, theta)\n",
    "\n",
    "# Plot both views\n",
    "fig, axs = plt.subplots(2,1)\n",
    "fig.suptitle(\"Leg IK simulation\")\n",
    "axs[0].set_title(\"Top View\")\n",
    "axs[0].set_xlabel(\"y\")\n",
    "axs[0].set_xlabel(\"x\")\n",
    "axs[0].plot( (leg_base[1], coxa_end[1]), (leg_base[0], coxa_end[0]), 'x-', label=\"Coxa\")\n",
    "axs[0].plot( (coxa_end[1], femur_end[1]), (coxa_end[0], femur_end[0]), 'x-', label=\"Femur\")\n",
    "axs[0].plot( (femur_end[1], tibia_end[1]), (femur_end[0], tibia_end[0]), 'x-', label=\"Tibia\")\n",
    "axs[0].grid()\n",
    "\n",
    "axs[1].set_title(\"Side view\")\n",
    "axs[1].set_xlabel(\"y\")\n",
    "axs[1].set_xlabel(\"x\")\n",
    "axs[1].plot( (leg_base[1], coxa_end[1]), (leg_base[2], coxa_end[2]), 'x-', label=\"Coxa\")\n",
    "axs[1].plot( (coxa_end[1], femur_end[1]), (coxa_end[2], femur_end[2]), 'x-', label=\"Femur\")\n",
    "axs[1].plot( (femur_end[1], tibia_end[1]), (femur_end[2], tibia_end[2]), 'x-', label=\"Tibia\")\n",
    "axs[1].grid()\n",
    "\n",
    "plt.legend()\n",
    "plt.show()"
   ]
  },
  {
   "cell_type": "code",
   "execution_count": 38,
   "metadata": {
    "tags": []
   },
   "outputs": [
    {
     "output_type": "stream",
     "name": "stdout",
     "text": "l_len: 79.60452641024881\n[90.0, 90.00000000000001, 90.0]\n"
    }
   ],
   "source": [
    "# inverse kinematics check (reframe)\n",
    "# need to reframe the kinematics!\n",
    "leg_end_coords = [0.0, 68.75, 0.0] # check back\n",
    "\n",
    "leg_end_coords[1] -= 68.75 # remove offsets\n",
    "\n",
    "z_offset_ik = z_offset - leg_end_coords[2]\n",
    "l_len = np.sqrt( z_offset_ik**2 + femur_len**2 )\n",
    "print(\"l_len:\", l_len)\n",
    "\n",
    "coxa_angle_ik = np.arctan2(leg_end_coords[0], leg_end_coords[1])\n",
    "\n",
    "femur_angle_ik1 = np.arccos( z_offset_ik / l_len )\n",
    "femur_angle_ik2 = np.arccos( (femur_len**2 + l_len**2 - tibia_len**2) / (2*femur_len*l_len) )\n",
    "femur_angle_ik = femur_angle_ik1 + femur_angle_ik2\n",
    "\n",
    "tibia_angle_ik = np.arccos( (femur_len**2 - l_len**2 + tibia_len**2) / (2*femur_len*tibia_len) )\n",
    "\n",
    "angles_ik = [to_degs(coxa_angle_ik)+90, to_degs(femur_angle_ik), to_degs(tibia_angle_ik)]\n",
    "\n",
    "print(angles_ik)"
   ]
  }
 ]
}